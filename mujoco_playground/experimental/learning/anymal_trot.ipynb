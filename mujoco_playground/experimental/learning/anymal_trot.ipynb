{
 "cells": [
  {
   "cell_type": "code",
   "execution_count": 1,
   "id": "234653ea",
   "metadata": {},
   "outputs": [],
   "source": [
    "import jax.numpy as jp\n",
    "import numpy as np\n",
    "import jax\n",
    "from jax import config # Analytical gradients work much better with double precision.\n",
    "config.update(\"jax_debug_nans\", True)\n",
    "config.update(\"jax_enable_x64\", True)\n",
    "config.update('jax_default_matmul_precision', 'high')\n",
    "from mujoco_playground import registry\n",
    "env = registry.load(\"AnymalTrot\")"
   ]
  },
  {
   "cell_type": "code",
   "execution_count": 2,
   "id": "9b196bf7",
   "metadata": {},
   "outputs": [
    {
     "name": "stdout",
     "output_type": "stream",
     "text": [
      "[-0.72    -9.42478 -9.42478 -0.49    -9.42478 -9.42478 -0.72    -9.42478\n",
      " -9.42478 -0.49    -9.42478 -9.42478]\n",
      "\n",
      "[0.49    9.42478 9.42478 0.72    9.42478 9.42478 0.49    9.42478 9.42478\n",
      " 0.72    9.42478 9.42478]\n"
     ]
    }
   ],
   "source": [
    "print(env.lowers)\n",
    "print()\n",
    "print(env.uppers)"
   ]
  },
  {
   "cell_type": "code",
   "execution_count": 3,
   "id": "68a4183e",
   "metadata": {},
   "outputs": [],
   "source": [
    "step_fn = jax.jit(env.step)\n",
    "reset_fn = jax.jit(env.reset)\n",
    "\n",
    "state = reset_fn(jax.random.PRNGKey(42))\n",
    "state = step_fn(state, jp.zeros(env.action_size))"
   ]
  },
  {
   "cell_type": "code",
   "execution_count": 4,
   "id": "08701237",
   "metadata": {},
   "outputs": [
    {
     "name": "stdout",
     "output_type": "stream",
     "text": [
      "(20, 12)\n",
      "[[ 0.          0.          0.          0.          0.          0.\n",
      "   0.          0.          0.          0.          0.          0.        ]\n",
      " [ 0.03047171 -0.10399841  0.07504512  0.09405647 -0.19510352 -0.13021795\n",
      "   0.01278404 -0.03162426 -0.00168012 -0.08530439  0.0879398   0.07777919]\n",
      " [ 0.00660307  0.11272412  0.04675093 -0.08592925  0.03687508 -0.09588826\n",
      "   0.08784503 -0.00499259 -0.01848624 -0.06809295  0.12225413 -0.01545295]\n",
      " [-0.04283278 -0.03521336  0.05323092  0.03654441  0.04127326  0.0430821\n",
      "   0.21416476 -0.0406415  -0.05122427 -0.08137727  0.06159794  0.11289723]\n",
      " [-0.01139475 -0.08401565 -0.08244812  0.06505928  0.07432542  0.05431543\n",
      "  -0.06655097  0.02321613  0.01166858  0.02186886  0.08714288  0.02235955]\n",
      " [ 0.06789136  0.00675791  0.02891194  0.06312882 -0.14571558 -0.03196712\n",
      "  -0.04703727 -0.06388778 -0.02751423  0.14949413 -0.08658311  0.09682784]\n",
      " [ 0.          0.          0.          0.          0.          0.\n",
      "   0.          0.          0.          0.          0.          0.        ]\n",
      " [ 0.28531695  0.28531695  0.28531695  0.28531695  0.28531695  0.28531695\n",
      "   0.28531695  0.28531695  0.28531695  0.28531695  0.28531695  0.28531695]\n",
      " [ 0.17633558  0.17633558  0.17633558  0.17633558  0.17633558  0.17633558\n",
      "   0.17633558  0.17633558  0.17633558  0.17633558  0.17633558  0.17633558]\n",
      " [-0.17633558 -0.17633558 -0.17633558 -0.17633558 -0.17633558 -0.17633558\n",
      "  -0.17633558 -0.17633558 -0.17633558 -0.17633558 -0.17633558 -0.17633558]\n",
      " [-0.28531695 -0.28531695 -0.28531695 -0.28531695 -0.28531695 -0.28531695\n",
      "  -0.28531695 -0.28531695 -0.28531695 -0.28531695 -0.28531695 -0.28531695]\n",
      " [ 1.          1.          1.          1.          1.          1.\n",
      "   1.          1.          1.          1.          1.          1.        ]\n",
      " [-1.         -1.         -1.         -1.         -1.         -1.\n",
      "  -1.         -1.         -1.         -1.         -1.         -1.        ]\n",
      " [-0.16828698 -0.0334885   0.01627531  0.05862223  0.07112266  0.07933472\n",
      "  -0.03487251 -0.04623518  0.08579759 -0.01913043 -0.12756863 -0.11332872]\n",
      " [ 0.02561182  0.16727312  0.13179962  0.18660559  0.07483179  0.13341102\n",
      "   0.18011609  0.0866224   0.16323457  0.05136446  0.08125167  0.07938326]\n",
      " [ 0.07062734  0.23890855  0.14327107  0.19146072  0.23828597  0.23486442\n",
      "   0.25674981  0.18036275  0.14788147  0.18223948  0.02147786  0.04550006]\n",
      " [ 0.05794134  0.09048662  0.23018873  0.0996634   0.15239505  0.32013413\n",
      "   0.15458491  0.26396286  0.09684954  0.16966755  0.0952091   0.156308  ]\n",
      " [ 0.20158786 -0.05517499  0.16099941  0.14133061  0.05814205 -0.02704873\n",
      "   0.12477     0.06460778  0.14082467  0.11974227  0.27773494  0.09362149]\n",
      " [-0.10234975  0.01792756  0.02199967  0.13591876  0.08351112  0.03568711\n",
      "   0.14633029 -0.11887631 -0.06397515 -0.09265759 -0.03898098 -0.13766861]\n",
      " [-0.05404196 -0.13977932 -0.26463768 -0.21911496 -0.08620567 -0.03374439\n",
      "   0.08211604  0.1738292  -0.07611611 -0.21651086 -0.33076168 -0.0907859 ]]\n"
     ]
    }
   ],
   "source": [
    "def generate_test_actions(action_dim, steps=20, seed=0):\n",
    "    rng = np.random.default_rng(seed)\n",
    "    actions = []\n",
    "\n",
    "    # 1. 零动作\n",
    "    actions.append(np.zeros(action_dim))\n",
    "\n",
    "    # 2. 小幅随机动作\n",
    "    for _ in range(5):\n",
    "        actions.append(0.1 * rng.standard_normal(action_dim))\n",
    "\n",
    "    # 3. 周期性动作（正弦波）\n",
    "    for t in range(5):\n",
    "        a = 0.3 * np.sin(2 * np.pi * t / 5) * np.ones(action_dim)\n",
    "        actions.append(a)\n",
    "\n",
    "    # 4. 极端动作（边界值）\n",
    "    actions.append(np.ones(action_dim))    # max\n",
    "    actions.append(-np.ones(action_dim))   # min\n",
    "\n",
    "    # 5. 混合：随机 + 正弦\n",
    "    for t in range(steps - len(actions)):\n",
    "        a = 0.2 * np.sin(2 * np.pi * t / 10) * np.ones(action_dim)\n",
    "        a += 0.1 * rng.standard_normal(action_dim)\n",
    "        actions.append(a)\n",
    "\n",
    "    return np.array(actions)\n",
    "\n",
    "# 用法\n",
    "actions = generate_test_actions(env.action_size, steps=20, seed=42)\n",
    "print(actions.shape)  # (20, action_dim)\n",
    "print(actions)      # 打印生成的动作序列\n"
   ]
  },
  {
   "cell_type": "code",
   "execution_count": 7,
   "id": "01bc7cca",
   "metadata": {},
   "outputs": [
    {
     "name": "stdout",
     "output_type": "stream",
     "text": [
      "start\n",
      "step cost: 0.030487775802612305\n",
      "step cost: 0.031014680862426758\n",
      "step cost: 0.03406476974487305\n",
      "step cost: 0.02564239501953125\n",
      "step cost: 0.031165122985839844\n",
      "step cost: 0.02360248565673828\n",
      "step cost: 0.02169322967529297\n",
      "step cost: 0.018362045288085938\n",
      "step cost: 0.033351898193359375\n",
      "step cost: 0.02606487274169922\n",
      "step cost: 0.030895471572875977\n",
      "step cost: 0.026174306869506836\n",
      "step cost: 0.0293428897857666\n",
      "step cost: 0.026992082595825195\n",
      "step cost: 0.03629803657531738\n",
      "step cost: 0.01883101463317871\n",
      "step cost: 0.018632888793945312\n",
      "step cost: 0.022719383239746094\n",
      "step cost: 0.02656722068786621\n",
      "step cost: 0.025464296340942383\n"
     ]
    }
   ],
   "source": [
    "import time\n",
    "\n",
    "def rollout(reset_fn, step_fn, actions, seed=0):\n",
    "    \"\"\"\n",
    "    Rollout the TrotAnymal environment using a sequence of actions.\n",
    "    Args:\n",
    "        env: TrotAnymal instance\n",
    "        actions: jp.array of shape [episode_length, action_dim]\n",
    "        seed: random seed for reset\n",
    "    Returns:\n",
    "        states: list of mjx_env.State objects\n",
    "    \"\"\"\n",
    "    rng = jax.random.PRNGKey(seed)\n",
    "    state = reset_fn(rng)\n",
    "    states = [state]\n",
    "    print(\"start\")\n",
    "    for action in actions:\n",
    "        start = time.time()\n",
    "        state = step_fn(state, action)\n",
    "        states.append(state)\n",
    "        print(\"step cost:\", time.time() - start)\n",
    "    return states\n",
    "\n",
    "states = rollout(reset_fn, step_fn, jp.array(actions), seed=42)"
   ]
  },
  {
   "cell_type": "code",
   "execution_count": null,
   "id": "35a59e87",
   "metadata": {},
   "outputs": [
    {
     "name": "stdout",
     "output_type": "stream",
     "text": [
      "qpos_array shape: (21, 19)\n",
      "qvel_array shape: (21, 18)\n",
      "reward_array shape: (21,)\n",
      "done_array shape: (21,)\n"
     ]
    }
   ],
   "source": [
    "qpos_list = [state.data.qpos for state in states]\n",
    "qvel_list = [state.data.qvel for state in states]\n",
    "reward_list = [state.reward for state in states]\n",
    "done_list = [state.done for state in states]\n",
    "\n",
    "# 将列表转换为 NumPy 数组\n",
    "qpos_array = np.stack(qpos_list)\n",
    "qvel_array = np.stack(qvel_list)\n",
    "reward_array = np.stack(reward_list)\n",
    "done_array = np.stack(done_list)\n",
    "\n",
    "print(\"qpos_array shape:\", qpos_array.shape)\n",
    "print(\"qvel_array shape:\", qvel_array.shape)\n",
    "print(\"reward_array shape:\", reward_array.shape)\n",
    "print(\"done_array shape:\", done_array.shape)\n",
    "\n",
    "# np.savez_compressed(\n",
    "#     'test_trajectory_data.npz',\n",
    "#     qpos=qpos_array,\n",
    "#     qvel=qvel_array,\n",
    "#     reward=reward_array,\n",
    "#     done=done_array\n",
    "# )"
   ]
  }
 ],
 "metadata": {
  "kernelspec": {
   "display_name": "custom_playground",
   "language": "python",
   "name": "python3"
  },
  "language_info": {
   "codemirror_mode": {
    "name": "ipython",
    "version": 3
   },
   "file_extension": ".py",
   "mimetype": "text/x-python",
   "name": "python",
   "nbconvert_exporter": "python",
   "pygments_lexer": "ipython3",
   "version": "3.11.13"
  }
 },
 "nbformat": 4,
 "nbformat_minor": 5
}
